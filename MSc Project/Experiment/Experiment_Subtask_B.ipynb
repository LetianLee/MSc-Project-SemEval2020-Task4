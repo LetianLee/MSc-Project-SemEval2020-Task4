{
 "cells": [
  {
   "cell_type": "markdown",
   "id": "b8f750fb",
   "metadata": {},
   "source": [
    "# Experiment on Subtask B: Explanation (Multi-Choice)\n",
    "Updated on August 29, 2021.\n",
    "\n",
    "#### Project Information:\n",
    "* Summer Project: Commonsense Validation and Explanation in Natural Language Processing<br>\n",
    "* Objective Task: SemEval 2020 Task 4 - Commonsense Validation and Explanation (ComVE)<br>\n",
    "* Supervisor: Dr Mark Lee<br>\n",
    "* Student: Letian Li (2214560)\n",
    " \n",
    "#### Task Description:\n",
    "The subtask B is an Explanation (Multi-Choice) task. The purpose is to find the right reason why a given statement is against common sense.\n",
    "\n",
    "*Example:*  \n",
    "> **Task:** Select the most appropriate reason as to why this statement is against common sense.  \n",
    "> **Statement:** He put an elephant into the fridge.  \n",
    "> A: An elephant is much bigger than a fridge.  \n",
    "> B: Elephants are usually white while fridges are usually white.  \n",
    "> C: An elephant cannot eat a fridge.\n",
    "\n",
    "#### Solution:\n",
    "The experiment will follow the steps:\n",
    "1. General Preparation  \n",
    "2. Data Processing \n",
    "3. Loading the Model and Optimizer  \n",
    "4. Training and Evaluation \n",
    "5. Experiment "
   ]
  },
  {
   "cell_type": "markdown",
   "id": "1414590b",
   "metadata": {},
   "source": [
    "<!-- #### Task Description:\n",
    "The subtask A is a validation task. The purpose is going to tell which of two similar natural language statements is against common sense.\n",
    "\n",
    "*Example:* \n",
    "        \n",
    "    Task: Which statement of the two is against common sense?\n",
    "    Statement1: He put a turkey into the fridge.  \n",
    "    Statement2: He put an elephant into the fridge.    -->"
   ]
  },
  {
   "cell_type": "markdown",
   "id": "0f8a0296",
   "metadata": {},
   "source": [
    "## 1. General Preparation"
   ]
  },
  {
   "cell_type": "markdown",
   "id": "edc5fa2b",
   "metadata": {},
   "source": [
    "Import some common libraries."
   ]
  },
  {
   "cell_type": "code",
   "execution_count": 1,
   "id": "1c352d68",
   "metadata": {},
   "outputs": [],
   "source": [
    "from tqdm import tqdm\n",
    "import time"
   ]
  },
  {
   "cell_type": "markdown",
   "id": "52a01f25",
   "metadata": {},
   "source": [
    "Use GPU Facilities."
   ]
  },
  {
   "cell_type": "code",
   "execution_count": 2,
   "id": "e3b94deb",
   "metadata": {},
   "outputs": [
    {
     "name": "stdout",
     "output_type": "stream",
     "text": [
      "We are using the device cuda:3 - TITAN RTX\n"
     ]
    }
   ],
   "source": [
    "import torch\n",
    "cuda_id = 1\n",
    "device = torch.device(\"cuda:%s\" % cuda_id if torch.cuda.is_available() else \"cpu\")\n",
    "device_name = torch.cuda.get_device_name(cuda_id) if torch.cuda.is_available() else \"cpu\"\n",
    "print(\"We are using the device %s - %s\" % (device, device_name))"
   ]
  },
  {
   "cell_type": "markdown",
   "id": "aef50dc8",
   "metadata": {},
   "source": [
    "Use TensorBoard to record and visualize the results of the experiment."
   ]
  },
  {
   "cell_type": "code",
   "execution_count": 3,
   "id": "0ef9d84c",
   "metadata": {},
   "outputs": [],
   "source": [
    "from torch.utils.tensorboard import SummaryWriter  \n",
    "\n",
    "# Set TensorBoard\n",
    "writer_tensorboard = SummaryWriter('./TensorBoard/SubtaskB')"
   ]
  },
  {
   "cell_type": "markdown",
   "id": "f206da46",
   "metadata": {},
   "source": [
    "## 2. Data Processing"
   ]
  },
  {
   "cell_type": "markdown",
   "id": "501f58b1",
   "metadata": {},
   "source": [
    "### 2.1 Read data from csv"
   ]
  },
  {
   "cell_type": "markdown",
   "id": "59b2cfe3",
   "metadata": {},
   "source": [
    "Build a common function to get texts and labels from csv file."
   ]
  },
  {
   "cell_type": "code",
   "execution_count": 4,
   "id": "052592a5",
   "metadata": {},
   "outputs": [],
   "source": [
    "import pandas as pd\n",
    "def get_info_from_csv(texts_path, labels_path):\n",
    "    texts = pd.read_csv(texts_path, header=0, names=['ID', 'False Statement', 'Option A', 'Option B', 'Option C']).fillna(str())\n",
    "    labels = pd.read_csv(labels_path, header=None, names=['ID', 'Answer'])['Answer']\n",
    "    return texts, labels"
   ]
  },
  {
   "cell_type": "markdown",
   "id": "c03d6fe1",
   "metadata": {},
   "source": [
    "Read texts and labels from csv file."
   ]
  },
  {
   "cell_type": "code",
   "execution_count": 5,
   "id": "5b238e17",
   "metadata": {},
   "outputs": [],
   "source": [
    "train_texts, train_labels = get_info_from_csv(\n",
    "    '../DataSet/Training Data/subtaskB_data_all.csv',\n",
    "    '../DataSet/Training Data/subtaskB_answers_all.csv'\n",
    ")\n",
    "\n",
    "val_texts, val_labels = get_info_from_csv(\n",
    "    '../DataSet/Dev Data/subtaskB_dev_data.csv',\n",
    "    '../DataSet/Dev Data/subtaskB_gold_answers.csv'\n",
    ")\n",
    "\n",
    "test_texts, test_labels = get_info_from_csv(\n",
    "    '../DataSet/Test Data/subtaskB_test_data.csv',\n",
    "    '../DataSet/Test Data/subtaskB_gold_answers.csv'\n",
    ")"
   ]
  },
  {
   "cell_type": "markdown",
   "id": "8d8512cf",
   "metadata": {},
   "source": [
    "Let's have a look at the training data."
   ]
  },
  {
   "cell_type": "code",
   "execution_count": 6,
   "id": "10c43912",
   "metadata": {},
   "outputs": [
    {
     "data": {
      "text/html": [
       "<div>\n",
       "<style scoped>\n",
       "    .dataframe tbody tr th:only-of-type {\n",
       "        vertical-align: middle;\n",
       "    }\n",
       "\n",
       "    .dataframe tbody tr th {\n",
       "        vertical-align: top;\n",
       "    }\n",
       "\n",
       "    .dataframe thead th {\n",
       "        text-align: right;\n",
       "    }\n",
       "</style>\n",
       "<table border=\"1\" class=\"dataframe\">\n",
       "  <thead>\n",
       "    <tr style=\"text-align: right;\">\n",
       "      <th></th>\n",
       "      <th>ID</th>\n",
       "      <th>False Statement</th>\n",
       "      <th>Option A</th>\n",
       "      <th>Option B</th>\n",
       "      <th>Option C</th>\n",
       "      <th>Answer</th>\n",
       "    </tr>\n",
       "  </thead>\n",
       "  <tbody>\n",
       "    <tr>\n",
       "      <th>0</th>\n",
       "      <td>0</td>\n",
       "      <td>He poured orange juice on his cereal.</td>\n",
       "      <td>Orange juice is usually bright orange.</td>\n",
       "      <td>Orange juice doesn't taste good on cereal.</td>\n",
       "      <td>Orange juice is sticky if you spill it on the ...</td>\n",
       "      <td>B</td>\n",
       "    </tr>\n",
       "    <tr>\n",
       "      <th>1</th>\n",
       "      <td>1</td>\n",
       "      <td>He drinks apple.</td>\n",
       "      <td>Apple juice are very tasty and milk too</td>\n",
       "      <td>Apple can not be drunk</td>\n",
       "      <td>Apple cannot eat a human</td>\n",
       "      <td>B</td>\n",
       "    </tr>\n",
       "    <tr>\n",
       "      <th>2</th>\n",
       "      <td>2</td>\n",
       "      <td>Jeff ran 100,000 miles today</td>\n",
       "      <td>100,000 miles is way to long for one person to...</td>\n",
       "      <td>Jeff is a four letter name and 100,000 has six...</td>\n",
       "      <td>100,000 miles is longer than 100,000 km.</td>\n",
       "      <td>A</td>\n",
       "    </tr>\n",
       "    <tr>\n",
       "      <th>3</th>\n",
       "      <td>3</td>\n",
       "      <td>I sting a mosquito</td>\n",
       "      <td>A human is a mammal</td>\n",
       "      <td>A human is omnivorous</td>\n",
       "      <td>A human has not stings</td>\n",
       "      <td>C</td>\n",
       "    </tr>\n",
       "    <tr>\n",
       "      <th>4</th>\n",
       "      <td>4</td>\n",
       "      <td>A giraffe is a person.</td>\n",
       "      <td>Giraffes can drink water from a lake.</td>\n",
       "      <td>A giraffe is not a human being.</td>\n",
       "      <td>.Giraffes usually eat leaves.</td>\n",
       "      <td>B</td>\n",
       "    </tr>\n",
       "  </tbody>\n",
       "</table>\n",
       "</div>"
      ],
      "text/plain": [
       "   ID                        False Statement  \\\n",
       "0   0  He poured orange juice on his cereal.   \n",
       "1   1                       He drinks apple.   \n",
       "2   2           Jeff ran 100,000 miles today   \n",
       "3   3                     I sting a mosquito   \n",
       "4   4                 A giraffe is a person.   \n",
       "\n",
       "                                            Option A  \\\n",
       "0             Orange juice is usually bright orange.   \n",
       "1            Apple juice are very tasty and milk too   \n",
       "2  100,000 miles is way to long for one person to...   \n",
       "3                                A human is a mammal   \n",
       "4              Giraffes can drink water from a lake.   \n",
       "\n",
       "                                            Option B  \\\n",
       "0         Orange juice doesn't taste good on cereal.   \n",
       "1                             Apple can not be drunk   \n",
       "2  Jeff is a four letter name and 100,000 has six...   \n",
       "3                              A human is omnivorous   \n",
       "4                    A giraffe is not a human being.   \n",
       "\n",
       "                                            Option C Answer  \n",
       "0  Orange juice is sticky if you spill it on the ...      B  \n",
       "1                           Apple cannot eat a human      B  \n",
       "2           100,000 miles is longer than 100,000 km.      A  \n",
       "3                             A human has not stings      C  \n",
       "4                      .Giraffes usually eat leaves.      B  "
      ]
     },
     "execution_count": 6,
     "metadata": {},
     "output_type": "execute_result"
    }
   ],
   "source": [
    "train_data = pd.concat([train_texts, train_labels], axis=1)\n",
    "train_data.head()"
   ]
  },
  {
   "cell_type": "markdown",
   "id": "2c76df8f",
   "metadata": {},
   "source": [
    "### 2.2 Tokenization"
   ]
  },
  {
   "cell_type": "markdown",
   "id": "ab78b604",
   "metadata": {},
   "source": [
    "Define a function to get a tokenizer."
   ]
  },
  {
   "cell_type": "code",
   "execution_count": 7,
   "id": "08f1b0a5",
   "metadata": {},
   "outputs": [],
   "source": [
    "from transformers import BertTokenizerFast, DistilBertTokenizerFast, RobertaTokenizerFast\n",
    "\n",
    "def get_tokenizer(model_name):\n",
    "    if model_name.startswith(\"bert\"):\n",
    "        return BertTokenizerFast.from_pretrained(model_name)\n",
    "    if model_name.startswith(\"distilbert\"):\n",
    "        return DistilBertTokenizerFast.from_pretrained(model_name)\n",
    "    if model_name.startswith(\"roberta\"):\n",
    "        return RobertaTokenizerFast.from_pretrained(model_name)"
   ]
  },
  {
   "cell_type": "markdown",
   "id": "f6ad387f",
   "metadata": {},
   "source": [
    "Define functions to do the tokenization."
   ]
  },
  {
   "cell_type": "code",
   "execution_count": 8,
   "id": "bc27675f",
   "metadata": {},
   "outputs": [],
   "source": [
    "# Tokenization function for subtask B texts\n",
    "def _tokenize_for_task_B(texts, tokenizer, max_length=128):\n",
    "    input_ids_list = list()\n",
    "    attention_mask_list = list()\n",
    "    \n",
    "    for text in texts.values:\n",
    "        encoding = tokenizer([[text[1], text[2]], [text[1], text[3]], [text[1], text[4]]], truncation=\"longest_first\", padding=\"max_length\", max_length=max_length)\n",
    "        input_ids_list.append(encoding.input_ids)\n",
    "        attention_mask_list.append(encoding.attention_mask)\n",
    "\n",
    "    encodings = {\"input_ids\":input_ids_list,\"attention_mask\":attention_mask_list}\n",
    "    return encodings\n",
    "\n",
    "\n",
    "# Tokenization\n",
    "def tokenization(model_name):\n",
    "    # Get tokenizer\n",
    "    tokenizer = get_tokenizer(model_name)\n",
    "\n",
    "    # Tokenization for texts\n",
    "    train_encodings = _tokenize_for_task_B(train_texts, tokenizer)\n",
    "    val_encodings = _tokenize_for_task_B(val_texts, tokenizer)\n",
    "    test_encodings = _tokenize_for_task_B(test_texts, tokenizer)\n",
    "    \n",
    "    return train_encodings, val_encodings, test_encodings"
   ]
  },
  {
   "cell_type": "markdown",
   "id": "f794243e",
   "metadata": {},
   "source": [
    "### 2.3 Turn data into a Dataset object"
   ]
  },
  {
   "cell_type": "markdown",
   "id": "f39c64e8",
   "metadata": {},
   "source": [
    "Define a Dataset class."
   ]
  },
  {
   "cell_type": "code",
   "execution_count": 9,
   "id": "8f819e70",
   "metadata": {},
   "outputs": [],
   "source": [
    "class ComVEDataset(torch.utils.data.Dataset):\n",
    "    def __init__(self, encodings, labels):\n",
    "        self.encodings = encodings\n",
    "        self.labels = labels\n",
    "\n",
    "    def __getitem__(self, idx):\n",
    "        item = {key: torch.tensor(val[idx]) for key, val in self.encodings.items()}\n",
    "        item['labels'] = torch.tensor(self.labels[idx])\n",
    "        return item\n",
    "\n",
    "    def __len__(self):\n",
    "        return len(self.labels)"
   ]
  },
  {
   "cell_type": "markdown",
   "id": "d2926fd2",
   "metadata": {},
   "source": [
    "Define a function to convert labels."
   ]
  },
  {
   "cell_type": "code",
   "execution_count": 10,
   "id": "8e322238",
   "metadata": {},
   "outputs": [],
   "source": [
    "# Convert labels from the letters \"A\", \"B\", \"C\" to the numbers 0, 1, 2\n",
    "def convert_labels(original_labels):\n",
    "    labels = [ord(label) - 65 for label in original_labels]\n",
    "    return labels"
   ]
  },
  {
   "cell_type": "markdown",
   "id": "d10c3191",
   "metadata": {},
   "source": [
    "Define a function to get all dataset in the form of dataset objects.   \n",
    "Note that, for different models, we need to use the corresponding tokenizer to process the text data."
   ]
  },
  {
   "cell_type": "code",
   "execution_count": 11,
   "id": "4af9f0d3",
   "metadata": {},
   "outputs": [],
   "source": [
    "def get_dataset(model_name):\n",
    "    # Tokenization for texts\n",
    "    train_encodings, val_encodings, test_encodings = tokenization(model_name)\n",
    "\n",
    "    # Convert labels from the letters \"A\", \"B\", \"C\" to the numbers 0, 1, 2\n",
    "    train_labels_number = convert_labels(train_labels)\n",
    "    val_labels_number = convert_labels(val_labels)\n",
    "    test_labels_number = convert_labels(test_labels)\n",
    "\n",
    "    # Turn encodings and labels into a Dataset object\n",
    "    train_dataset = ComVEDataset(train_encodings, train_labels_number)\n",
    "    val_dataset = ComVEDataset(val_encodings, val_labels_number)\n",
    "    test_dataset = ComVEDataset(test_encodings, test_labels_number)\n",
    "    \n",
    "    dataset = {\"train_dataset\" : train_dataset, \"val_dataset\" : val_dataset, \"test_dataset\" : test_dataset}\n",
    "    return dataset"
   ]
  },
  {
   "cell_type": "markdown",
   "id": "6c9b1cd3",
   "metadata": {},
   "source": [
    "## 3. Loading the Model and Optimizer"
   ]
  },
  {
   "cell_type": "markdown",
   "id": "db67215f",
   "metadata": {},
   "source": [
    "Define a function to load model."
   ]
  },
  {
   "cell_type": "code",
   "execution_count": 12,
   "id": "ad48bc8d",
   "metadata": {},
   "outputs": [],
   "source": [
    "from transformers import BertForMultipleChoice, DistilBertForMultipleChoice, RobertaForMultipleChoice\n",
    "\n",
    "def get_model(model_name):\n",
    "    if model_name.startswith(\"bert\"):\n",
    "        model = BertForMultipleChoice.from_pretrained(model_name)\n",
    "    if model_name.startswith(\"distilbert\"):\n",
    "        model = DistilBertForMultipleChoice.from_pretrained(model_name)\n",
    "    if model_name.startswith(\"roberta\"):\n",
    "        model = RobertaForMultipleChoice.from_pretrained(model_name)\n",
    "        \n",
    "    model.to(device)\n",
    "    return model"
   ]
  },
  {
   "cell_type": "markdown",
   "id": "d994d3d4",
   "metadata": {},
   "source": [
    "Define a function to load optimizer."
   ]
  },
  {
   "cell_type": "code",
   "execution_count": 13,
   "id": "522f3d82",
   "metadata": {},
   "outputs": [],
   "source": [
    "from transformers import AdamW\n",
    "\n",
    "def get_optimizer(model, optimizer_name, learning_rate):\n",
    "    if optimizer_name == \"Adam\":\n",
    "        return AdamW(model.parameters(), lr=learning_rate)"
   ]
  },
  {
   "cell_type": "markdown",
   "id": "6b6565f1",
   "metadata": {},
   "source": [
    "## 4. Training and Evaluation"
   ]
  },
  {
   "cell_type": "markdown",
   "id": "cdb767c4",
   "metadata": {},
   "source": [
    "Prepare some utility functions."
   ]
  },
  {
   "cell_type": "code",
   "execution_count": 14,
   "id": "bafab666",
   "metadata": {},
   "outputs": [],
   "source": [
    "# Prediction function\n",
    "def predict(outputs):\n",
    "    probabilities = torch.softmax(outputs[\"logits\"], dim=1)\n",
    "    predictions = torch.argmax(probabilities, dim=1)\n",
    "    return predictions"
   ]
  },
  {
   "cell_type": "code",
   "execution_count": 15,
   "id": "b8c3e4a6",
   "metadata": {},
   "outputs": [],
   "source": [
    "# Plot function\n",
    "import matplotlib.pyplot as plt\n",
    "\n",
    "def plot_loss_and_acc(train_loss_list, train_accuracy_list, val_loss_list, val_accuracy_list, save_name=None):\n",
    "    \n",
    "    '''\n",
    "    Plot 1: Iteration vs Loss\n",
    "    '''\n",
    "    name = save_name.split(\"/\")[-1]\n",
    "    print(name)\n",
    "    \n",
    "    # X-axis\n",
    "    val_loss_X = (np.arange(len(val_loss_list))+1) * int(len(train_loss_list)/len(val_loss_list))  # This is to adjust the X-axis of val_loss. For each epoch, we only get one val_loss, but have len(train_dataset)/batchsize train_loss. Meanwhile, we can deduce that len(train_dataset)/batchsize = len(train_loss_list)/epoch = len(train_loss_list)/len(val_loss_list)\n",
    "\n",
    "    # plot minimum point of validation loss\n",
    "    epoch_of_min_loss = np.argmin(val_loss_list)\n",
    "    val_loss_min_point = (val_loss_X[epoch_of_min_loss], min(val_loss_list))\n",
    "    plt.axvline(x=val_loss_min_point[0],  color='gray' , linestyle='--', linewidth=0.8)\n",
    "    # plt.axhline(y=val_loss_min_point[1],  color='gray' , linestyle='--', linewidth=0.8)\n",
    "    plt.text(x=val_loss_min_point[0]*1.05, y=max(val_loss_list), s=\"epoch:%s\" % (epoch_of_min_loss+1), va=\"top\")\n",
    "    \n",
    "    # plot curve\n",
    "    plt.plot(train_loss_list, label=\"Training Loss\")\n",
    "    plt.plot(val_loss_X, val_loss_list, label=\"Validation Loss\")\n",
    "    plt.xlabel(\"Iteration\")\n",
    "    plt.ylabel(\"Loss\")\n",
    "    plt.title(\"Loss vs. Iteration\")  \n",
    "    plt.legend()\n",
    "    \n",
    "    # save the figure and display it\n",
    "    if store_img and save_name:\n",
    "        plt.savefig(save_name + \"_Loss.png\")\n",
    "    plt.show()\n",
    "\n",
    "    \n",
    "    '''\n",
    "    Plot 2: Epoch vs Accuracy\n",
    "    '''\n",
    "    # X-axis\n",
    "    acc_X = np.arange(len(train_accuracy_list))+1\n",
    "    \n",
    "    # plot maximum point of validation accuracy\n",
    "    val_acc_max_point = (acc_X[np.argmax(val_accuracy_list)], max(val_accuracy_list))\n",
    "    plt.axvline(x=val_acc_max_point[0],  color='gray' , linestyle='--', linewidth=0.8)\n",
    "    plt.axhline(y=val_acc_max_point[1],  color='gray' , linestyle='--', linewidth=0.8)\n",
    "    plt.scatter(x=val_acc_max_point[0], y=val_acc_max_point[1], color=\"gray\")\n",
    "    # plt.text(x=val_acc_max_point[0]*0.98, y=val_acc_max_point[1]*1.05, s=tuple([round(x,2) for x in val_acc_max_point]), ha=\"right\") \n",
    "    if val_acc_max_point[0] > len(acc_X)-3: \n",
    "        plt.text(x=val_acc_max_point[0]*0.98, y=val_acc_max_point[1]*0.98, s=round(val_acc_max_point[1],3), \n",
    "                 ha=\"right\", va=\"top\")\n",
    "    else:\n",
    "        plt.text(x=val_acc_max_point[0]*1.02, y=val_acc_max_point[1]*0.98, s=round(val_acc_max_point[1],3), \n",
    "                 ha=\"left\", va=\"top\")\n",
    "\n",
    "    # plot curve\n",
    "    plt.plot(acc_X, train_accuracy_list,\"-\", label=\"Training Accuracy\")\n",
    "    plt.plot(acc_X, val_accuracy_list,\"-\", label=\"Validation Accuracy\")\n",
    "    plt.xlabel(\"Epoch\")\n",
    "    plt.ylabel(\"Accuracy\")\n",
    "    plt.title(\"Accuracy vs. Epoch\")   \n",
    "    plt.legend()\n",
    "    \n",
    "    # save the figure and display it\n",
    "    if store_img and save_name:\n",
    "        plt.savefig(save_name + \"_Accuracy.png\")\n",
    "    plt.show()"
   ]
  },
  {
   "cell_type": "markdown",
   "id": "d5c201c7",
   "metadata": {},
   "source": [
    "Prepare the evaluation function."
   ]
  },
  {
   "cell_type": "code",
   "execution_count": 16,
   "id": "973f46aa",
   "metadata": {},
   "outputs": [],
   "source": [
    "# Evaluation\n",
    "import numpy as np\n",
    "from torch.utils.data import DataLoader\n",
    "from pandas.core.frame import DataFrame\n",
    "\n",
    "def evaluate(model, dataset, batch_size=1, process_name=None, info=None):\n",
    "    # Get data by DataLoader\n",
    "    data_loader = DataLoader(dataset, batch_size=batch_size, shuffle=False)\n",
    "\n",
    "    # Start evaluation\n",
    "    model.eval()\n",
    "\n",
    "    with torch.no_grad():\n",
    "\n",
    "        correct = 0\n",
    "        count = 0\n",
    "        loss_list = list()\n",
    "        record = {\"labels\":list(), \"predictions\":list()}\n",
    "\n",
    "        pbar = tqdm(data_loader)\n",
    "        for batch in pbar:\n",
    "            input_ids = batch['input_ids'].to(device)\n",
    "            attention_mask = batch['attention_mask'].to(device)\n",
    "            labels = batch['labels'].to(device)\n",
    "            outputs = model(input_ids, attention_mask=attention_mask, labels=labels)\n",
    "            loss = outputs['loss']\n",
    "\n",
    "            # make predictions\n",
    "            predictions = predict(outputs)\n",
    "\n",
    "            # count accuracy\n",
    "            correct += predictions.eq(labels).sum().item()\n",
    "            count += len(labels)\n",
    "            accuracy = correct * 1.0 / count\n",
    "\n",
    "            # show progress along with metrics\n",
    "            pbar.set_postfix({\n",
    "                'Loss': '{:.3f}'.format(loss.item()),\n",
    "                'Accuracy': '{:.3f}'.format(accuracy),\n",
    "                'Process': process_name if process_name else 'Evaluation'\n",
    "            })\n",
    "\n",
    "            # record the loss for each batch\n",
    "            loss_list.append(loss.item())\n",
    "            \n",
    "            # use TensorBoard to record the loss and accuracy\n",
    "            if store_tensorboard_event and info and process_name:\n",
    "                writer_tensorboard.add_scalars(\"Loss\", {\"_\".join([process_name] + info[:-1]): loss.item()}, info[-1] )\n",
    "                writer_tensorboard.add_scalars(\"Accuracy\", {\"_\".join([process_name] + info[:-1]): accuracy}, info[-1])\n",
    "\n",
    "            # record the results\n",
    "            record[\"labels\"] += labels.cpu().numpy().tolist()\n",
    "            record[\"predictions\"] += predictions.cpu().numpy().tolist()\n",
    "\n",
    "        pbar.close()\n",
    "        \n",
    "    # Record the average loss and the final accuracy\n",
    "    eval_loss = np.mean(loss_list)\n",
    "    eval_accuracy = accuracy\n",
    "    \n",
    "    # Convert evaluation record to a pandas DataFrame object\n",
    "#     pass\n",
    "#     df_record = DataFrame(record)\n",
    "#     df_record.columns = [\"Ground Truth\",\"Model Prediction\"]\n",
    "#     df_record = None\n",
    "\n",
    "    return eval_loss, eval_accuracy, record  "
   ]
  },
  {
   "cell_type": "markdown",
   "id": "c0115520",
   "metadata": {},
   "source": [
    "Prepare the training function."
   ]
  },
  {
   "cell_type": "code",
   "execution_count": 17,
   "id": "c26a5b6f",
   "metadata": {
    "scrolled": true
   },
   "outputs": [],
   "source": [
    "# Training\n",
    "from torch.utils.data import DataLoader\n",
    "\n",
    "def train(model, dataset, optimizer, batch_size=16, epoch=10, loss_function=None, target=None, info=None):\n",
    "\n",
    "    # Get training data by DataLoader\n",
    "    train_dataset = dataset.get(\"train_dataset\")\n",
    "    train_loader = DataLoader(train_dataset, batch_size=batch_size, shuffle=True)\n",
    "\n",
    "    # Start training\n",
    "    model.train()\n",
    "\n",
    "    train_loss_list = list()\n",
    "    train_accuracy_list = list()\n",
    "    val_loss_list = list()\n",
    "    val_accuracy_list = list()\n",
    "    \n",
    "    iteration = 0\n",
    "    for epoch_i in range(epoch):\n",
    "        print('Epoch %s/%s' % (epoch_i + 1, epoch))\n",
    "        time.sleep(0.3)\n",
    "\n",
    "        correct = 0\n",
    "        count = 0\n",
    "        loss_list = list()\n",
    "\n",
    "        pbar = tqdm(train_loader)\n",
    "        for batch in pbar:\n",
    "            optimizer.zero_grad()\n",
    "            input_ids = batch['input_ids'].to(device)\n",
    "            attention_mask = batch['attention_mask'].to(device)\n",
    "            labels = batch['labels'].to(device)\n",
    "            outputs = model(input_ids, attention_mask=attention_mask, labels=labels)\n",
    "            loss = outputs['loss']\n",
    "            loss.backward()\n",
    "            optimizer.step()\n",
    "\n",
    "            # make predictions\n",
    "            predictions = predict(outputs)\n",
    "\n",
    "            # count accuracy\n",
    "            correct += predictions.eq(labels).sum().item()\n",
    "            count += len(labels)\n",
    "            accuracy = correct * 1.0 / count\n",
    "\n",
    "            # show progress along with metrics\n",
    "            pbar.set_postfix({\n",
    "                'Loss': '{:.3f}'.format(loss.item()),\n",
    "                'Accuracy': '{:.3f}'.format(accuracy),\n",
    "                'Process': 'Training'\n",
    "            })\n",
    "\n",
    "            # record the loss for each batch\n",
    "            loss_list.append(loss.item())\n",
    "            \n",
    "            # use TensorBoard to record the loss and accuracy\n",
    "            if store_tensorboard_event and info:\n",
    "                iteration += 1\n",
    "                writer_tensorboard.add_scalars(\"Loss\", {\"_\".join([\"Training\"] + info): loss.item()}, iteration)\n",
    "                writer_tensorboard.add_scalars(\"Accuracy\", {\"_\".join([\"Training\"] + info): accuracy}, iteration)\n",
    "\n",
    "        pbar.close()\n",
    "\n",
    "        # record the training loss and accuracy for each epoch\n",
    "        train_loss_list += loss_list\n",
    "        train_accuracy_list.append(accuracy)\n",
    "        \n",
    "        # Evaluation on validation dataset\n",
    "        val_dataset = dataset.get(\"val_dataset\")\n",
    "        val_loss, val_accuracy, record = evaluate(model, val_dataset, batch_size=batch_size, \n",
    "                                              process_name=\"Validation\", info=info+[iteration])\n",
    "        val_loss_list.append(val_loss)\n",
    "        val_accuracy_list.append(val_accuracy)\n",
    "    \n",
    "    return train_loss_list, train_accuracy_list, val_loss_list, val_accuracy_list, record"
   ]
  },
  {
   "cell_type": "markdown",
   "id": "b32e12b9",
   "metadata": {},
   "source": [
    "## 5. Experiment"
   ]
  },
  {
   "cell_type": "code",
   "execution_count": 18,
   "id": "8a0ffdb6",
   "metadata": {},
   "outputs": [
    {
     "name": "stdout",
     "output_type": "stream",
     "text": [
      "Experiment: Roberta-Large Adam CrossEntropy LearningRate=1e-05 BatchSize=16 Epoch=1\n"
     ]
    },
    {
     "name": "stderr",
     "output_type": "stream",
     "text": [
      "Some weights of the model checkpoint at roberta-large were not used when initializing RobertaForMultipleChoice: ['lm_head.decoder.weight', 'lm_head.layer_norm.weight', 'lm_head.bias', 'lm_head.dense.bias', 'lm_head.layer_norm.bias', 'lm_head.dense.weight']\n",
      "- This IS expected if you are initializing RobertaForMultipleChoice from the checkpoint of a model trained on another task or with another architecture (e.g. initializing a BertForSequenceClassification model from a BertForPreTraining model).\n",
      "- This IS NOT expected if you are initializing RobertaForMultipleChoice from the checkpoint of a model that you expect to be exactly identical (initializing a BertForSequenceClassification model from a BertForSequenceClassification model).\n",
      "Some weights of RobertaForMultipleChoice were not initialized from the model checkpoint at roberta-large and are newly initialized: ['classifier.bias', 'classifier.weight']\n",
      "You should probably TRAIN this model on a down-stream task to be able to use it for predictions and inference.\n"
     ]
    },
    {
     "name": "stdout",
     "output_type": "stream",
     "text": [
      "Epoch 1/1\n"
     ]
    },
    {
     "name": "stderr",
     "output_type": "stream",
     "text": [
      "100%|██████████| 625/625 [12:52<00:00,  1.24s/it, Loss=0.301, Accuracy=0.818, Process=Training]\n",
      "100%|██████████| 63/63 [00:26<00:00,  2.36it/s, Loss=0.337, Accuracy=0.914, Process=Validation]\n"
     ]
    },
    {
     "name": "stdout",
     "output_type": "stream",
     "text": [
      "Roberta-Large_Adam_CrossEntropy_LearningRate=1e-05_BatchSize=16_Epoch=1\n"
     ]
    },
    {
     "data": {
      "image/png": "[encoded data removed]",
      "text/plain": [
       "<Figure size 432x288 with 1 Axes>"
      ]
     },
     "metadata": {
      "needs_background": "light"
     },
     "output_type": "display_data"
    },
    {
     "data": {
      "image/png": "[encoded data removed]",
      "text/plain": [
       "<Figure size 432x288 with 1 Axes>"
      ]
     },
     "metadata": {
      "needs_background": "light"
     },
     "output_type": "display_data"
    }
   ],
   "source": [
    "import csv\n",
    "import os\n",
    "\n",
    "# Settings: whether to store the experiment results.\n",
    "store_img = False\n",
    "store_tensorboard_event = False\n",
    "\n",
    "\"\"\"\n",
    "Select the Model and the Hyperparameters\n",
    "\"\"\"\n",
    "# Select the model.\n",
    "# Check the Pretrained models on https://huggingface.co/transformers/pretrained_models.html\n",
    "# Options: [\"bert-base-uncased\" , \"distilbert-base-uncased\", \"roberta-base\", \"roberta-large\"]\n",
    "# model_name = \"bert-base-uncased\"\n",
    "# model_name = \"distilbert-base-uncased\"\n",
    "# model_name = \"roberta-base\"\n",
    "model_name = \"roberta-large\"\n",
    "\n",
    "\n",
    "# Select the optimizer.\n",
    "optimizer_name = 'Adam'\n",
    "\n",
    "# Select the loss function.\n",
    "loss_name = 'CrossEntropy'\n",
    "\n",
    "# Select the learning rate list.\n",
    "# learning_rate_list = [1e-7,1e-6,1e-5,1e-4]                              # learning rate list\n",
    "learning_rate_list = [1e-5]\n",
    "\n",
    "# Select the batch size list.\n",
    "# batch_size_list = [8,16,32,64,128]                                      # batch size list - distilbert\n",
    "# batch_size_list = [8,16,32,64]                                          # batch size list - bert\n",
    "# batch_size_list = [8,16,32,64]                                          # batch size list - roberta-base\n",
    "# batch_size_list = [8,16]                                                # batch size list - roberta-large\n",
    "batch_size_list = [16]\n",
    "\n",
    "# Select the epoch.\n",
    "epoch = 1\n",
    "    \n",
    "\n",
    "\"\"\"\n",
    "Start Experiments with Selected Model and Hyperparameters.\n",
    "\"\"\"\n",
    "# Get the dataset via using the specific model tokenizer.\n",
    "dataset = get_dataset(model_name)\n",
    "\n",
    "# Create a directory for this experiment.\n",
    "task_directory = \"ExperimentResult_B\"\n",
    "experiment_name = \"_\".join([time.strftime(\"%Y%m%d_%H%M\", time.localtime()), \n",
    "                            model_name.title(), optimizer_name, loss_name, \"Epoch=%s\" % epoch])\n",
    "os.makedirs(\"./%s/%s\" % (task_directory, experiment_name))\n",
    "\n",
    "# Experiment and store the results in a CSV file.\n",
    "file_name =  \"./%s/%s/%s.csv\" % (task_directory, experiment_name, experiment_name)\n",
    "with open(file_name, 'a', newline='') as file:\n",
    "    writer = csv.writer(file)\n",
    "    writer.writerow([\"Model\", \"Optimizer\", \"Loss Function\", \"Learning Rate\", \"Batch Size\", \"Test Epoch\", \n",
    "                     \"Training Loss\", \"Training Accuracy\", \"Validation Loss\", \"Validation Accuracy\", \n",
    "                     \"Highest Accuracy\", \"Occurred in which Epoch\"])\n",
    "    \n",
    "    for learning_rate in learning_rate_list:\n",
    "        \n",
    "        for batch_size in batch_size_list:\n",
    "            experiment_info = [model_name.title(), optimizer_name, loss_name, \n",
    "                               \"LearningRate=%s\" % learning_rate, \"BatchSize=%s\" % batch_size, \"Epoch=%s\" % epoch]\n",
    "            print(\"Experiment:\", \" \".join(experiment_info))\n",
    "            \n",
    "            # Initialize the model\n",
    "            model = get_model(model_name)\n",
    "            \n",
    "            # Get the Optimizer\n",
    "            optimizer = get_optimizer(model, optimizer_name, learning_rate)\n",
    "            \n",
    "            # Training\n",
    "            train_loss_list, train_accuracy_list, val_loss_list, val_accuracy_list, record = train(\n",
    "                model = model,\n",
    "                dataset = dataset,\n",
    "                optimizer = optimizer,\n",
    "                batch_size = batch_size,\n",
    "                epoch = epoch,\n",
    "                info = experiment_info\n",
    "            )\n",
    "            \n",
    "            # Plot the result\n",
    "            save_name = \"./%s/%s/%s\" % (task_directory, experiment_name, \"_\".join(experiment_info))\n",
    "            plot_loss_and_acc(train_loss_list, train_accuracy_list, val_loss_list, val_accuracy_list, save_name)\n",
    "            \n",
    "            # Record the validation result \n",
    "            time.sleep(0.3)\n",
    "            writer.writerow([model_name.title(), optimizer_name, loss_name, learning_rate, batch_size, epoch, \n",
    "                             train_loss_list, train_accuracy_list, val_loss_list, val_accuracy_list,\n",
    "                             max(val_accuracy_list), np.argmax(val_accuracy_list)+1])\n",
    "            \n",
    "            torch.cuda.empty_cache()"
   ]
  },
  {
   "cell_type": "code",
   "execution_count": 24,
   "id": "031d5d68",
   "metadata": {},
   "outputs": [
    {
     "data": {
      "image/png": "[encoded data removed]",
      "text/plain": [
       "<Figure size 432x288 with 2 Axes>"
      ]
     },
     "metadata": {
      "needs_background": "light"
     },
     "output_type": "display_data"
    }
   ],
   "source": [
    "# Display the Confusion Matrix of the last experiment result.\n",
    "import seaborn as sns\n",
    "\n",
    "# Convert test record to a pandas DataFrame object\n",
    "df_record = DataFrame(record)\n",
    "df_record.columns = [\"Ground Truth\",\"Model Prediction\"]\n",
    "\n",
    "# Convert labels from the numbers 0, 1, 2 to the letters \"A\", \"B\", \"C\"\n",
    "df_record[\"Ground Truth\"] = df_record[\"Ground Truth\"].map(lambda x:chr(x+65))\n",
    "df_record[\"Model Prediction\"] = df_record[\"Model Prediction\"].map(lambda x:chr(x+65))\n",
    "\n",
    "# Display the Confusion Matrix\n",
    "crosstab = pd.crosstab(df_record[\"Ground Truth\"],df_record[\"Model Prediction\"])\n",
    "sns.heatmap(crosstab, cmap='Oranges', annot=True, fmt='g', linewidths=5)\n",
    "accuracy = df_record[\"Ground Truth\"].eq(df_record[\"Model Prediction\"]).sum() / len(df_record[\"Ground Truth\"])\n",
    "plt.title(\"Confusion Matrix (Accuracy: %s%%)\" % round(accuracy*100,2))\n",
    "plt.show()"
   ]
  }
 ],
 "metadata": {
  "kernelspec": {
   "display_name": "Python 3",
   "language": "python",
   "name": "python3"
  },
  "language_info": {
   "codemirror_mode": {
    "name": "ipython",
    "version": 3
   },
   "file_extension": ".py",
   "mimetype": "text/x-python",
   "name": "python",
   "nbconvert_exporter": "python",
   "pygments_lexer": "ipython3",
   "version": "3.8.8"
  }
 },
 "nbformat": 4,
 "nbformat_minor": 5
}
