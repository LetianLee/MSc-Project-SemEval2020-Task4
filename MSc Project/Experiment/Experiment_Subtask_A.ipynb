{
 "cells": [
  {
   "cell_type": "markdown",
   "id": "b8f750fb",
   "metadata": {},
   "source": [
    "# Experiment on Subtask A: Validation\n",
    "Updated on August 20, 2021.\n",
    "\n",
    "#### Project Information:\n",
    "* Summer Project: Commonsense Validation and Explanation in Natural Language Processing<br>\n",
    "* Objective Task: SemEval 2020 Task 4 - Commonsense Validation and Explanation (ComVE)<br>\n",
    "* Supervisor: Dr Mark Lee<br>\n",
    "* Student: Letian Li (2214560)\n",
    " \n",
    "#### Task Description:\n",
    "The subtask A is a validation task. The purpose is to determine which of two similar natural language statements is against common sense.\n",
    "\n",
    "*Example:*  \n",
    "> Task: Which of the two statements is against common sense?  \n",
    "> Statement1: He put a turkey into the fridge.  \n",
    "> Statement2: He put an elephant into the fridge. \n",
    "\n",
    "#### Solution:\n",
    "The experiment will follow the steps:\n",
    "1. General Preparation  \n",
    "2. Data Processing \n",
    "3. Loading the Model and Optimizer  \n",
    "4. Training and Evaluation \n",
    "5. Experiment "
   ]
  },
  {
   "cell_type": "markdown",
   "id": "1414590b",
   "metadata": {},
   "source": [
    "<!-- #### Task Description:\n",
    "The subtask A is a validation task. The purpose is going to tell which of two similar natural language statements is against common sense.\n",
    "\n",
    "*Example:* \n",
    "        \n",
    "    Task: Which statement of the two is against common sense?\n",
    "    Statement1: He put a turkey into the fridge.  \n",
    "    Statement2: He put an elephant into the fridge.    -->"
   ]
  },
  {
   "cell_type": "markdown",
   "id": "0f8a0296",
   "metadata": {},
   "source": [
    "## 1. General Preparation"
   ]
  },
  {
   "cell_type": "markdown",
   "id": "edc5fa2b",
   "metadata": {},
   "source": [
    "Import some common libraries."
   ]
  },
  {
   "cell_type": "code",
   "execution_count": 1,
   "id": "1c352d68",
   "metadata": {},
   "outputs": [],
   "source": [
    "from tqdm import tqdm\n",
    "import time"
   ]
  },
  {
   "cell_type": "markdown",
   "id": "52a01f25",
   "metadata": {},
   "source": [
    "Use GPU Facilities."
   ]
  },
  {
   "cell_type": "code",
   "execution_count": 2,
   "id": "e3b94deb",
   "metadata": {},
   "outputs": [
    {
     "name": "stdout",
     "output_type": "stream",
     "text": [
      "We are using the device cuda:0 - TITAN RTX\n"
     ]
    }
   ],
   "source": [
    "import torch\n",
    "cuda_id = 0\n",
    "device = torch.device(\"cuda:%s\" % cuda_id if torch.cuda.is_available() else \"cpu\")\n",
    "device_name = torch.cuda.get_device_name(cuda_id) if torch.cuda.is_available() else \"cpu\"\n",
    "print(\"We are using the device %s - %s\" % (device, device_name))"
   ]
  },
  {
   "cell_type": "markdown",
   "id": "f206da46",
   "metadata": {},
   "source": [
    "## 2. Data Processing"
   ]
  },
  {
   "cell_type": "markdown",
   "id": "501f58b1",
   "metadata": {},
   "source": [
    "### 2.1 Read data from csv"
   ]
  },
  {
   "cell_type": "markdown",
   "id": "59b2cfe3",
   "metadata": {},
   "source": [
    "Build a common function to get texts and labels from csv file."
   ]
  },
  {
   "cell_type": "code",
   "execution_count": 3,
   "id": "052592a5",
   "metadata": {},
   "outputs": [],
   "source": [
    "import pandas as pd\n",
    "def get_info_from_csv(texts_path, labels_path):\n",
    "    texts = pd.read_csv(texts_path, header=0, names=['ID', 'Statement 0', 'Statement 1'])\n",
    "    labels = pd.read_csv(labels_path, header=None, names=['ID', 'Answer'])\n",
    "    return texts, labels"
   ]
  },
  {
   "cell_type": "markdown",
   "id": "c03d6fe1",
   "metadata": {},
   "source": [
    "Read texts and labels from csv file."
   ]
  },
  {
   "cell_type": "code",
   "execution_count": 4,
   "id": "5b238e17",
   "metadata": {},
   "outputs": [],
   "source": [
    "train_texts, train_labels = get_info_from_csv(\n",
    "    '../DataSet/Training Data/subtaskA_data_all.csv',\n",
    "    '../DataSet/Training Data/subtaskA_answers_all.csv'\n",
    ")\n",
    "\n",
    "val_texts, val_labels = get_info_from_csv(\n",
    "    '../DataSet/Dev Data/subtaskA_dev_data.csv',\n",
    "    '../DataSet/Dev Data/subtaskA_gold_answers.csv'\n",
    ")\n",
    "\n",
    "test_texts, test_labels = get_info_from_csv(\n",
    "    '../DataSet/Test Data/subtaskA_test_data.csv',\n",
    "    '../DataSet/Test Data/subtaskA_gold_answers.csv'\n",
    ")"
   ]
  },
  {
   "cell_type": "markdown",
   "id": "8d8512cf",
   "metadata": {},
   "source": [
    "Let's have a look at the training data."
   ]
  },
  {
   "cell_type": "code",
   "execution_count": 5,
   "id": "10c43912",
   "metadata": {},
   "outputs": [
    {
     "data": {
      "text/html": [
       "<div>\n",
       "<style scoped>\n",
       "    .dataframe tbody tr th:only-of-type {\n",
       "        vertical-align: middle;\n",
       "    }\n",
       "\n",
       "    .dataframe tbody tr th {\n",
       "        vertical-align: top;\n",
       "    }\n",
       "\n",
       "    .dataframe thead th {\n",
       "        text-align: right;\n",
       "    }\n",
       "</style>\n",
       "<table border=\"1\" class=\"dataframe\">\n",
       "  <thead>\n",
       "    <tr style=\"text-align: right;\">\n",
       "      <th></th>\n",
       "      <th>ID</th>\n",
       "      <th>Statement 0</th>\n",
       "      <th>Statement 1</th>\n",
       "      <th>Answer</th>\n",
       "    </tr>\n",
       "  </thead>\n",
       "  <tbody>\n",
       "    <tr>\n",
       "      <th>0</th>\n",
       "      <td>0</td>\n",
       "      <td>He poured orange juice on his cereal.</td>\n",
       "      <td>He poured milk on his cereal.</td>\n",
       "      <td>0</td>\n",
       "    </tr>\n",
       "    <tr>\n",
       "      <th>1</th>\n",
       "      <td>1</td>\n",
       "      <td>He drinks apple.</td>\n",
       "      <td>He drinks milk.</td>\n",
       "      <td>0</td>\n",
       "    </tr>\n",
       "    <tr>\n",
       "      <th>2</th>\n",
       "      <td>2</td>\n",
       "      <td>Jeff ran a mile today</td>\n",
       "      <td>Jeff ran 100,000 miles today</td>\n",
       "      <td>1</td>\n",
       "    </tr>\n",
       "    <tr>\n",
       "      <th>3</th>\n",
       "      <td>3</td>\n",
       "      <td>A mosquito stings me</td>\n",
       "      <td>I sting a mosquito</td>\n",
       "      <td>1</td>\n",
       "    </tr>\n",
       "    <tr>\n",
       "      <th>4</th>\n",
       "      <td>4</td>\n",
       "      <td>A niece is a person.</td>\n",
       "      <td>A giraffe is a person.</td>\n",
       "      <td>1</td>\n",
       "    </tr>\n",
       "  </tbody>\n",
       "</table>\n",
       "</div>"
      ],
      "text/plain": [
       "   ID                            Statement 0                    Statement 1  \\\n",
       "0   0  He poured orange juice on his cereal.  He poured milk on his cereal.   \n",
       "1   1                       He drinks apple.                He drinks milk.   \n",
       "2   2                  Jeff ran a mile today   Jeff ran 100,000 miles today   \n",
       "3   3                   A mosquito stings me             I sting a mosquito   \n",
       "4   4                   A niece is a person.         A giraffe is a person.   \n",
       "\n",
       "   Answer  \n",
       "0       0  \n",
       "1       0  \n",
       "2       1  \n",
       "3       1  \n",
       "4       1  "
      ]
     },
     "execution_count": 5,
     "metadata": {},
     "output_type": "execute_result"
    }
   ],
   "source": [
    "train_data = pd.merge(train_texts, train_labels, how='left', on='ID')\n",
    "train_data.head()"
   ]
  },
  {
   "cell_type": "markdown",
   "id": "2c76df8f",
   "metadata": {},
   "source": [
    "### 2.2 Tokenization"
   ]
  },
  {
   "cell_type": "code",
   "execution_count": 6,
   "id": "bc27675f",
   "metadata": {},
   "outputs": [],
   "source": [
    "from transformers import DistilBertTokenizerFast\n",
    "\n",
    "# Get tokenizer\n",
    "tokenizer = DistilBertTokenizerFast.from_pretrained('distilbert-base-uncased')\n",
    "\n",
    "# Tokenization for texts\n",
    "train_encodings = tokenizer(list(train_texts[\"Statement 0\"]), list(train_texts[\"Statement 1\"]), truncation=True, padding=True)\n",
    "val_encodings = tokenizer(list(val_texts[\"Statement 0\"]), list(val_texts[\"Statement 1\"]), truncation=True, padding=True)\n",
    "test_encodings = tokenizer(list(test_texts[\"Statement 0\"]), list(test_texts[\"Statement 1\"]), truncation=True, padding=True)"
   ]
  },
  {
   "cell_type": "markdown",
   "id": "f794243e",
   "metadata": {},
   "source": [
    "### 2.3 Turn data into a Dataset object"
   ]
  },
  {
   "cell_type": "markdown",
   "id": "f39c64e8",
   "metadata": {},
   "source": [
    "Define a Dataset class."
   ]
  },
  {
   "cell_type": "code",
   "execution_count": 7,
   "id": "8f819e70",
   "metadata": {},
   "outputs": [],
   "source": [
    "class ComVEDataset(torch.utils.data.Dataset):\n",
    "    def __init__(self, encodings, labels):\n",
    "        self.encodings = encodings\n",
    "        self.labels = labels\n",
    "\n",
    "    def __getitem__(self, idx):\n",
    "        item = {key: torch.tensor(val[idx]) for key, val in self.encodings.items()}\n",
    "        item['labels'] = torch.tensor(self.labels[idx])\n",
    "        return item\n",
    "\n",
    "    def __len__(self):\n",
    "        return len(self.labels)"
   ]
  },
  {
   "cell_type": "markdown",
   "id": "d10c3191",
   "metadata": {},
   "source": [
    "Turn encodings and labels into a Dataset object."
   ]
  },
  {
   "cell_type": "code",
   "execution_count": 8,
   "id": "4af9f0d3",
   "metadata": {},
   "outputs": [],
   "source": [
    "# Adjust the labels\n",
    "train_labels = train_labels['Answer']\n",
    "val_labels = val_labels['Answer']\n",
    "test_labels = test_labels['Answer']\n",
    "\n",
    "# Turn encodings and labels into a Dataset object\n",
    "train_dataset = ComVEDataset(train_encodings, train_labels)\n",
    "val_dataset = ComVEDataset(val_encodings, val_labels)\n",
    "test_dataset = ComVEDataset(test_encodings, test_labels)"
   ]
  },
  {
   "cell_type": "markdown",
   "id": "6c9b1cd3",
   "metadata": {},
   "source": [
    "## 3. Loading the Model and Optimizer"
   ]
  },
  {
   "cell_type": "code",
   "execution_count": 9,
   "id": "ad48bc8d",
   "metadata": {},
   "outputs": [
    {
     "name": "stderr",
     "output_type": "stream",
     "text": [
      "Some weights of the model checkpoint at distilbert-base-uncased were not used when initializing DistilBertForSequenceClassification: ['vocab_projector.weight', 'vocab_transform.bias', 'vocab_layer_norm.weight', 'vocab_projector.bias', 'vocab_transform.weight', 'vocab_layer_norm.bias']\n",
      "- This IS expected if you are initializing DistilBertForSequenceClassification from the checkpoint of a model trained on another task or with another architecture (e.g. initializing a BertForSequenceClassification model from a BertForPreTraining model).\n",
      "- This IS NOT expected if you are initializing DistilBertForSequenceClassification from the checkpoint of a model that you expect to be exactly identical (initializing a BertForSequenceClassification model from a BertForSequenceClassification model).\n",
      "Some weights of DistilBertForSequenceClassification were not initialized from the model checkpoint at distilbert-base-uncased and are newly initialized: ['pre_classifier.bias', 'classifier.weight', 'pre_classifier.weight', 'classifier.bias']\n",
      "You should probably TRAIN this model on a down-stream task to be able to use it for predictions and inference.\n"
     ]
    }
   ],
   "source": [
    "from transformers import DistilBertForSequenceClassification, AdamW\n",
    "\n",
    "model = DistilBertForSequenceClassification.from_pretrained('distilbert-base-uncased')\n",
    "model.to(device)\n",
    "\n",
    "optim = AdamW(model.parameters(), lr=5e-6)"
   ]
  },
  {
   "cell_type": "markdown",
   "id": "6b6565f1",
   "metadata": {},
   "source": [
    "## 4. Training and Evaluation"
   ]
  },
  {
   "cell_type": "markdown",
   "id": "cdb767c4",
   "metadata": {},
   "source": [
    "Prepare some utility functions."
   ]
  },
  {
   "cell_type": "code",
   "execution_count": 17,
   "id": "bafab666",
   "metadata": {},
   "outputs": [],
   "source": [
    "# Prediction function\n",
    "def predict(outputs):\n",
    "    probabilities = torch.softmax(outputs[\"logits\"], dim=1)\n",
    "    predictions = torch.argmax(probabilities, dim=1)\n",
    "    return predictions"
   ]
  },
  {
   "cell_type": "code",
   "execution_count": 196,
   "id": "b8c3e4a6",
   "metadata": {},
   "outputs": [],
   "source": [
    "# Plot function\n",
    "import matplotlib.pyplot as plt\n",
    "\n",
    "def plot_loss_and_acc(train_loss_list, train_accuracy_list, val_loss_list, val_accuracy_list, save_name=None):\n",
    "    \n",
    "    # Plot 1: Iteration vs Loss\n",
    "    val_loss_X = (np.arange(len(val_loss_list))+1) * int(len(train_loss_list)/len(val_loss_list))  # This is to adjust the X-axis of val_loss. For each epoch, we only get one val_loss, but have len(train_dataset)/batchsize train_loss. Meanwhile, we can deduce that len(train_dataset)/batchsize = len(train_loss_list)/epoch = len(train_loss_list)/len(val_loss_list)\n",
    "\n",
    "    # plot minimum point of validation loss\n",
    "    epoch_of_min_loss = np.argmin(val_loss_list)\n",
    "    val_loss_min_point = (val_loss_X[epoch_of_min_loss], min(val_loss_list))\n",
    "    plt.axvline(x=val_loss_min_point[0],  color='gray' , linestyle='--', linewidth=0.8)\n",
    "    # plt.axhline(y=val_loss_min_point[1],  color='gray' , linestyle='--', linewidth=0.8)\n",
    "    plt.text(x=val_loss_min_point[0]*1.05, y=val_loss_min_point[1]*0.9, s=\"epoch:%s\" % (epoch_of_min_loss+1), va=\"bottom\")\n",
    "    \n",
    "    # plot curve\n",
    "    plt.plot(train_loss_list, label=\"Training Loss\")\n",
    "    plt.plot(val_loss_X, val_loss_list, label=\"Validation Loss\")\n",
    "    plt.xlabel(\"Iteration\")\n",
    "    plt.ylabel(\"Loss\")\n",
    "    plt.title(\"Iteration vs Loss\")  \n",
    "    plt.legend()\n",
    "    plt.show()\n",
    "\n",
    "    # Plot 2: Epoch vs Accuracy\n",
    "    acc_X = np.arange(len(train_accuracy_list))+1\n",
    "    \n",
    "    # plot maximum point of validation accuracy\n",
    "    val_acc_max_point = (acc_X[np.argmax(val_accuracy_list)], max(val_accuracy_list))\n",
    "    plt.axvline(x=val_acc_max_point[0],  color='gray' , linestyle='--', linewidth=0.8)\n",
    "    plt.axhline(y=val_acc_max_point[1],  color='gray' , linestyle='--', linewidth=0.8)\n",
    "    plt.scatter(x=val_acc_max_point[0], y=val_acc_max_point[1], color=\"gray\")\n",
    "    plt.text(x=val_acc_max_point[0]*0.98, y=val_acc_max_point[1]*1.05, s=tuple([round(x,2) for x in val_acc_max_point]), ha=\"right\") \n",
    "\n",
    "    # plot curve\n",
    "    plt.plot(acc_X, train_accuracy_list,\"-\", label=\"Training Accuracy\")\n",
    "    plt.plot(acc_X, val_accuracy_list,\"-\", label=\"Validation Accuracy\")\n",
    "    plt.xlabel(\"Epoch\")\n",
    "    plt.ylabel(\"Accuracy\")\n",
    "    plt.title(\"Epoch vs Accuracy\")  \n",
    "    plt.legend()\n",
    "    plt.show()"
   ]
  },
  {
   "cell_type": "markdown",
   "id": "d5c201c7",
   "metadata": {},
   "source": [
    "Prepare the evaluation function."
   ]
  },
  {
   "cell_type": "code",
   "execution_count": 11,
   "id": "973f46aa",
   "metadata": {},
   "outputs": [],
   "source": [
    "# Evaluation\n",
    "import numpy as np\n",
    "from torch.utils.data import DataLoader\n",
    "from pandas.core.frame import DataFrame\n",
    "\n",
    "def evaluate(model, dataset, batch_size=1, process_name=None ):\n",
    "    # Get data by DataLoader\n",
    "    data_loader = DataLoader(dataset, batch_size=batch_size, shuffle=False)\n",
    "\n",
    "    # Start evaluation\n",
    "    model.eval()\n",
    "\n",
    "    with torch.no_grad():\n",
    "\n",
    "        correct = 0\n",
    "        count = 0\n",
    "        loss_list = list()\n",
    "        record = list()\n",
    "\n",
    "        pbar = tqdm(data_loader)\n",
    "        for batch in pbar:\n",
    "            input_ids = batch['input_ids'].to(device)\n",
    "            attention_mask = batch['attention_mask'].to(device)\n",
    "            labels = batch['labels'].to(device)\n",
    "            outputs = model(input_ids, attention_mask=attention_mask, labels=labels)\n",
    "            loss = outputs['loss']\n",
    "\n",
    "            # make predictions\n",
    "            predictions = predict(outputs)\n",
    "\n",
    "            # count accuracy\n",
    "            correct += predictions.eq(labels).sum().item()\n",
    "            count += len(labels)\n",
    "            accuracy = correct * 1.0 / count\n",
    "\n",
    "            # show progress along with metrics\n",
    "            pbar.set_postfix({\n",
    "                'Loss': '{:.3f}'.format(loss.item()),\n",
    "                'Accuracy': '{:.3f}'.format(accuracy),\n",
    "                'Process': process_name if process_name else 'Evaluation'\n",
    "            })\n",
    "\n",
    "            # record the loss for each batch\n",
    "            loss_list.append(loss.item())\n",
    "            \n",
    "            # record the results\n",
    "            # record.append((int(labels),int(predictions)))\n",
    "\n",
    "        pbar.close()\n",
    "        \n",
    "    # Record the average loss and the final accuracy\n",
    "    eval_loss = np.mean(loss_list)\n",
    "    eval_accuracy = accuracy\n",
    "    \n",
    "    # Convert evaluation record to a pandas DataFrame object\n",
    "    # df_record = DataFrame(record)\n",
    "    # df_record.columns = [\"Ground Truth\",\"Model Prediction\"]\n",
    "    df_record = None\n",
    "\n",
    "    return eval_loss, eval_accuracy, df_record  "
   ]
  },
  {
   "cell_type": "markdown",
   "id": "c0115520",
   "metadata": {},
   "source": [
    "Prepare the training function."
   ]
  },
  {
   "cell_type": "code",
   "execution_count": 12,
   "id": "c26a5b6f",
   "metadata": {
    "scrolled": true
   },
   "outputs": [],
   "source": [
    "# Training\n",
    "from torch.utils.data import DataLoader\n",
    "\n",
    "def train(model, batch_size=16, epochs=10, optimizer=None, loss_function=None, target=None):\n",
    "    # Set the number of epochs\n",
    "    epochs = epochs\n",
    "\n",
    "    # Get training data by DataLoader\n",
    "    train_loader = DataLoader(train_dataset, batch_size=batch_size, shuffle=True)\n",
    "\n",
    "    # Start training\n",
    "    model.train()\n",
    "\n",
    "    train_loss_list = list()\n",
    "    train_accuracy_list = list()\n",
    "    val_loss_list = list()\n",
    "    val_accuracy_list = list()\n",
    "    for epoch in range(epochs):\n",
    "        print('Epoch %s/%s' % (epoch + 1, epochs))\n",
    "        time.sleep(0.3)\n",
    "\n",
    "        correct = 0\n",
    "        count = 0\n",
    "        loss_list = list()\n",
    "\n",
    "        pbar = tqdm(train_loader)\n",
    "        for batch in pbar:\n",
    "            optim.zero_grad()\n",
    "            input_ids = batch['input_ids'].to(device)\n",
    "            attention_mask = batch['attention_mask'].to(device)\n",
    "            labels = batch['labels'].to(device)\n",
    "            outputs = model(input_ids, attention_mask=attention_mask, labels=labels)\n",
    "            loss = outputs['loss']\n",
    "            loss.backward()\n",
    "            optim.step()\n",
    "\n",
    "            # make predictions\n",
    "            predictions = predict(outputs)\n",
    "\n",
    "            # count accuracy\n",
    "            correct += predictions.eq(labels).sum().item()\n",
    "            count += len(labels)\n",
    "            accuracy = correct * 1.0 / count\n",
    "\n",
    "            # show progress along with metrics\n",
    "            pbar.set_postfix({\n",
    "                'Loss': '{:.3f}'.format(loss.item()),\n",
    "                'Accuracy': '{:.3f}'.format(accuracy),\n",
    "                'Process': 'Training'\n",
    "            })\n",
    "\n",
    "            # record the loss for each batch\n",
    "            loss_list.append(loss.item())\n",
    "\n",
    "        pbar.close()\n",
    "\n",
    "        # record the training loss and accuracy for each epoch\n",
    "        train_loss_list += loss_list\n",
    "        train_accuracy_list.append(accuracy)\n",
    "        \n",
    "        # Evaluation on validation dataset\n",
    "        val_loss, val_accuracy, __ = evaluate(model, val_dataset, batch_size=batch_size, process_name=\"Validation\")\n",
    "        val_loss_list.append(val_loss)\n",
    "        val_accuracy_list.append(val_accuracy)\n",
    "    \n",
    "    return train_loss_list, train_accuracy_list, val_loss_list, val_accuracy_list"
   ]
  },
  {
   "cell_type": "markdown",
   "id": "35050327",
   "metadata": {},
   "source": [
    "Training with validation"
   ]
  },
  {
   "cell_type": "code",
   "execution_count": 13,
   "id": "89c7a4b7",
   "metadata": {
    "scrolled": true
   },
   "outputs": [
    {
     "name": "stdout",
     "output_type": "stream",
     "text": [
      "Epoch 1/15\n"
     ]
    },
    {
     "name": "stderr",
     "output_type": "stream",
     "text": [
      "100%|██████████| 79/79 [00:14<00:00,  5.50it/s, Loss=0.700, Accuracy=0.501, Process=Training]\n",
      "100%|██████████| 8/8 [00:00<00:00, 18.10it/s, Loss=0.694, Accuracy=0.493, Process=Validation]\n"
     ]
    },
    {
     "name": "stdout",
     "output_type": "stream",
     "text": [
      "Epoch 2/15\n"
     ]
    },
    {
     "name": "stderr",
     "output_type": "stream",
     "text": [
      "100%|██████████| 79/79 [00:14<00:00,  5.59it/s, Loss=0.682, Accuracy=0.517, Process=Training]\n",
      "100%|██████████| 8/8 [00:00<00:00, 17.95it/s, Loss=0.694, Accuracy=0.524, Process=Validation]\n"
     ]
    },
    {
     "name": "stdout",
     "output_type": "stream",
     "text": [
      "Epoch 3/15\n"
     ]
    },
    {
     "name": "stderr",
     "output_type": "stream",
     "text": [
      "100%|██████████| 79/79 [00:14<00:00,  5.52it/s, Loss=0.679, Accuracy=0.538, Process=Training]\n",
      "100%|██████████| 8/8 [00:00<00:00, 17.75it/s, Loss=0.694, Accuracy=0.532, Process=Validation]\n"
     ]
    },
    {
     "name": "stdout",
     "output_type": "stream",
     "text": [
      "Epoch 4/15\n"
     ]
    },
    {
     "name": "stderr",
     "output_type": "stream",
     "text": [
      "100%|██████████| 79/79 [00:14<00:00,  5.49it/s, Loss=0.638, Accuracy=0.574, Process=Training]\n",
      "100%|██████████| 8/8 [00:00<00:00, 17.80it/s, Loss=0.700, Accuracy=0.527, Process=Validation]\n"
     ]
    },
    {
     "name": "stdout",
     "output_type": "stream",
     "text": [
      "Epoch 5/15\n"
     ]
    },
    {
     "name": "stderr",
     "output_type": "stream",
     "text": [
      "100%|██████████| 79/79 [00:14<00:00,  5.50it/s, Loss=0.780, Accuracy=0.652, Process=Training]\n",
      "100%|██████████| 8/8 [00:00<00:00, 17.59it/s, Loss=0.569, Accuracy=0.663, Process=Validation]\n"
     ]
    },
    {
     "name": "stdout",
     "output_type": "stream",
     "text": [
      "Epoch 6/15\n"
     ]
    },
    {
     "name": "stderr",
     "output_type": "stream",
     "text": [
      "100%|██████████| 79/79 [00:14<00:00,  5.48it/s, Loss=0.507, Accuracy=0.754, Process=Training]\n",
      "100%|██████████| 8/8 [00:00<00:00, 17.69it/s, Loss=0.542, Accuracy=0.705, Process=Validation]\n"
     ]
    },
    {
     "name": "stdout",
     "output_type": "stream",
     "text": [
      "Epoch 7/15\n"
     ]
    },
    {
     "name": "stderr",
     "output_type": "stream",
     "text": [
      "100%|██████████| 79/79 [00:14<00:00,  5.44it/s, Loss=0.467, Accuracy=0.840, Process=Training]\n",
      "100%|██████████| 8/8 [00:00<00:00, 17.38it/s, Loss=0.531, Accuracy=0.736, Process=Validation]\n"
     ]
    },
    {
     "name": "stdout",
     "output_type": "stream",
     "text": [
      "Epoch 8/15\n"
     ]
    },
    {
     "name": "stderr",
     "output_type": "stream",
     "text": [
      "100%|██████████| 79/79 [00:14<00:00,  5.39it/s, Loss=0.092, Accuracy=0.900, Process=Training]\n",
      "100%|██████████| 8/8 [00:00<00:00, 17.30it/s, Loss=0.589, Accuracy=0.737, Process=Validation]\n"
     ]
    },
    {
     "name": "stdout",
     "output_type": "stream",
     "text": [
      "Epoch 9/15\n"
     ]
    },
    {
     "name": "stderr",
     "output_type": "stream",
     "text": [
      "100%|██████████| 79/79 [00:15<00:00,  5.23it/s, Loss=0.055, Accuracy=0.941, Process=Training]\n",
      "100%|██████████| 8/8 [00:00<00:00, 17.15it/s, Loss=0.685, Accuracy=0.728, Process=Validation]\n"
     ]
    },
    {
     "name": "stdout",
     "output_type": "stream",
     "text": [
      "Epoch 10/15\n"
     ]
    },
    {
     "name": "stderr",
     "output_type": "stream",
     "text": [
      "100%|██████████| 79/79 [00:15<00:00,  5.08it/s, Loss=0.091, Accuracy=0.969, Process=Training]\n",
      "100%|██████████| 8/8 [00:00<00:00, 15.98it/s, Loss=0.728, Accuracy=0.742, Process=Validation]\n"
     ]
    },
    {
     "name": "stdout",
     "output_type": "stream",
     "text": [
      "Epoch 11/15\n"
     ]
    },
    {
     "name": "stderr",
     "output_type": "stream",
     "text": [
      "100%|██████████| 79/79 [00:15<00:00,  4.96it/s, Loss=0.146, Accuracy=0.986, Process=Training]\n",
      "100%|██████████| 8/8 [00:00<00:00, 15.81it/s, Loss=0.878, Accuracy=0.724, Process=Validation]\n"
     ]
    },
    {
     "name": "stdout",
     "output_type": "stream",
     "text": [
      "Epoch 12/15\n"
     ]
    },
    {
     "name": "stderr",
     "output_type": "stream",
     "text": [
      "100%|██████████| 79/79 [00:16<00:00,  4.92it/s, Loss=0.011, Accuracy=0.991, Process=Training]\n",
      "100%|██████████| 8/8 [00:00<00:00, 15.68it/s, Loss=0.941, Accuracy=0.746, Process=Validation]\n"
     ]
    },
    {
     "name": "stdout",
     "output_type": "stream",
     "text": [
      "Epoch 13/15\n"
     ]
    },
    {
     "name": "stderr",
     "output_type": "stream",
     "text": [
      "100%|██████████| 79/79 [00:15<00:00,  4.94it/s, Loss=0.019, Accuracy=0.996, Process=Training]\n",
      "100%|██████████| 8/8 [00:00<00:00, 15.48it/s, Loss=1.037, Accuracy=0.752, Process=Validation]\n"
     ]
    },
    {
     "name": "stdout",
     "output_type": "stream",
     "text": [
      "Epoch 14/15\n"
     ]
    },
    {
     "name": "stderr",
     "output_type": "stream",
     "text": [
      "100%|██████████| 79/79 [00:16<00:00,  4.91it/s, Loss=0.313, Accuracy=0.997, Process=Training]\n",
      "100%|██████████| 8/8 [00:00<00:00, 15.50it/s, Loss=1.144, Accuracy=0.748, Process=Validation]\n"
     ]
    },
    {
     "name": "stdout",
     "output_type": "stream",
     "text": [
      "Epoch 15/15\n"
     ]
    },
    {
     "name": "stderr",
     "output_type": "stream",
     "text": [
      "100%|██████████| 79/79 [00:16<00:00,  4.91it/s, Loss=0.002, Accuracy=0.999, Process=Training]\n",
      "100%|██████████| 8/8 [00:00<00:00, 15.52it/s, Loss=1.148, Accuracy=0.743, Process=Validation]\n"
     ]
    }
   ],
   "source": [
    "train_loss_list, train_accuracy_list, val_loss_list, val_accuracy_list = train(model, batch_size=128, epochs=15)"
   ]
  },
  {
   "cell_type": "markdown",
   "id": "da92e8ca",
   "metadata": {},
   "source": [
    "Visualise the loss and accuracy."
   ]
  },
  {
   "cell_type": "code",
   "execution_count": 198,
   "id": "e697dee6",
   "metadata": {},
   "outputs": [
    {
     "data": {
      "image/png": "[encoded data removed]",
      "text/plain": [
       "<Figure size 432x288 with 1 Axes>"
      ]
     },
     "metadata": {
      "needs_background": "light"
     },
     "output_type": "display_data"
    },
    {
     "data": {
      "image/png": "[encoded data removed]",
      "text/plain": [
       "<Figure size 432x288 with 1 Axes>"
      ]
     },
     "metadata": {
      "needs_background": "light"
     },
     "output_type": "display_data"
    }
   ],
   "source": [
    "plot_loss_and_acc(train_loss_list, train_accuracy_list, val_loss_list, val_accuracy_list)"
   ]
  },
  {
   "cell_type": "markdown",
   "id": "b32e12b9",
   "metadata": {},
   "source": [
    "## 5. Experiment"
   ]
  },
  {
   "cell_type": "code",
   "execution_count": null,
   "id": "8a0ffdb6",
   "metadata": {},
   "outputs": [],
   "source": [
    "import csv\n",
    "\n",
    "\"\"\"\n",
    "Experiment Different Hyperparameters with Grid Search method. \n",
    "\"\"\"\n",
    "loss_name = 'CrossEntropy'\n",
    "# loss_name = 'Tversky'\n",
    "\n",
    "# optimizer_name = 'SGD'\n",
    "optimizer_name = 'Adam'\n",
    "# optimizer_name = 'AdaGrad'\n",
    "\n",
    "# learning rate\n",
    "lr_search_list = [1,1e-1,1e-2,1e-3,1e-4,1e-5,1e-6]   # learning rate list\n",
    "batch_search_list = [16,32,64]               # batch size list\n",
    "epochs = 1\n",
    "    \n",
    "# Record the result into a CSV file\n",
    "file_name = loss_name + \"_\" + optimizer_name + '.csv'\n",
    "\n",
    "\"\"\"\n",
    "Do Experiments with Different Hyperparameters\n",
    "\"\"\"\n",
    "with open(file_name, 'a', newline='') as file:\n",
    "    writer = csv.writer(file)\n",
    "    writer.writerow([\"Learning Rate\", \"Batch Size\",\"Epochs\",\"Loss Function\", \"Optimizer\", \"Accuracy\", \"Validation Loss\"])\n",
    "    \n",
    "    for lr in lr_search_list:\n",
    "        print(\"Test for Learning Rate: \", lr)\n",
    "        for batch_size in batch_search_list:\n",
    "            print(\"Test for Batch Size: \", batch_size)\n",
    "            \n",
    "            # Initialize the model\n",
    "#             model = get_model(model_name)\n",
    "            model = model\n",
    "            \n",
    "            # Get Loss Function and Optimizer\n",
    "#             loss_function = get_loss_function(loss_name)\n",
    "#             optimizer = get_optimizer(model, optimizer_name, learning_rate)\n",
    "            optimizer = optim\n",
    "            \n",
    "            # Train the model and get the validation result\n",
    "            train_loss_list, train_accuracy_list, val_loss_list, val_accuracy_list = train(\n",
    "                                                                                                model = model,\n",
    "                                                                                                batch_size = batch_size,\n",
    "                                                                                                epochs = epochs,\n",
    "                                                                                                optimizer = optimizer,\n",
    "                                                                                #                 loss_function = loss_function\n",
    "                                                                                            )\n",
    "            \n",
    "            # Record the validation result \n",
    "            writer.writerow([lr, batch_size, epochs, loss_name, optimizer_name, val_accuracy_list[-1], val_loss_list[-1]])"
   ]
  }
 ],
 "metadata": {
  "kernelspec": {
   "display_name": "Python 3",
   "language": "python",
   "name": "python3"
  },
  "language_info": {
   "codemirror_mode": {
    "name": "ipython",
    "version": 3
   },
   "file_extension": ".py",
   "mimetype": "text/x-python",
   "name": "python",
   "nbconvert_exporter": "python",
   "pygments_lexer": "ipython3",
   "version": "3.8.8"
  }
 },
 "nbformat": 4,
 "nbformat_minor": 5
}
